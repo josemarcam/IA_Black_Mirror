{
 "cells": [
  {
   "cell_type": "code",
   "execution_count": 2,
   "metadata": {},
   "outputs": [],
   "source": [
    "import numpy as np\n",
    "import cv2"
   ]
  },
  {
   "cell_type": "code",
   "execution_count": 5,
   "metadata": {},
   "outputs": [],
   "source": [
    "\n",
    "def main():\n",
    "    #carrega um classificador de um arquivo\n",
    "    face_cascade = cv2.CascadeClassifier('haarcascade_frontalface_default.xml')\n",
    "\n",
    "    #carrega um vídeo\n",
    "    cap = cv2.VideoCapture(\"nilce.mp4\")\n",
    "\n",
    "    while(True):\n",
    "        #carrega o frame de vídeo\n",
    "        frameExiste, frame = cap.read()\n",
    "\n",
    "        #chegou ao último frame ou houve erro? então sair!\n",
    "        if(frameExiste == False):\n",
    "            cap.release()\n",
    "            return\n",
    "\n",
    "        #somente funciona com tons de cinza\n",
    "        gray = cv2.cvtColor(frame, cv2.COLOR_BGR2GRAY)\n",
    "\n",
    "        #detecta faces de diferentes tamanhos no frame de vídeo\n",
    "        #primeiro parâmetro: a imagem\n",
    "\n",
    "        #segundo parâmetro: especifica o quanto a imagem reduz\n",
    "        #de tamanho durante a verificação\n",
    "\n",
    "        #terceiro parâmetro: especifica quantos vizinhos\n",
    "        #cada candidato a retângulo retêm\n",
    "        faces = face_cascade.detectMultiScale(gray, 1.3, 5)\n",
    "\n",
    "        #para cada face detectada\n",
    "        for (x, y, w, h) in faces:\n",
    "            #desenhe um retângulo (imagem, posição inicial, final, cor, espessura)\n",
    "            frame = cv2.rectangle(frame,(x,y),(x+w,y+h),(0,0,255),5)\n",
    "\n",
    "        cv2.imshow(\"deteccao\", frame)\n",
    "        if cv2.waitKey(1) & 0xFF == ord('q'):\n",
    "            break\n",
    "\n",
    "    cap.release()\n",
    "    cv2.destroyAllWindows()"
   ]
  },
  {
   "cell_type": "code",
   "execution_count": 6,
   "metadata": {},
   "outputs": [],
   "source": [
    "main()"
   ]
  },
  {
   "cell_type": "code",
   "execution_count": null,
   "metadata": {},
   "outputs": [],
   "source": []
  }
 ],
 "metadata": {
  "kernelspec": {
   "display_name": "Python 3",
   "language": "python",
   "name": "python3"
  },
  "language_info": {
   "codemirror_mode": {
    "name": "ipython",
    "version": 3
   },
   "file_extension": ".py",
   "mimetype": "text/x-python",
   "name": "python",
   "nbconvert_exporter": "python",
   "pygments_lexer": "ipython3",
   "version": "3.7.4"
  }
 },
 "nbformat": 4,
 "nbformat_minor": 2
}
